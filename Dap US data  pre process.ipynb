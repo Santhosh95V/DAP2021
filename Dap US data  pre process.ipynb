{
 "cells": [
  {
   "cell_type": "code",
   "execution_count": 98,
   "id": "d4672254",
   "metadata": {},
   "outputs": [],
   "source": [
    "import numpy  as np\n",
    "import matplotlib.pyplot as plt\n",
    "import pandas as pd\n"
   ]
  },
  {
   "cell_type": "code",
   "execution_count": 99,
   "id": "baeddaee",
   "metadata": {
    "scrolled": false
   },
   "outputs": [],
   "source": [
    "dataset = pd.read_csv('C:/Users/Santhosh/Downloads/DAP data set1/Education_updated.csv')\n",
    "\n",
    "\n",
    "\n",
    "\n"
   ]
  },
  {
   "cell_type": "code",
   "execution_count": 100,
   "id": "a3409b0e",
   "metadata": {},
   "outputs": [
    {
     "data": {
      "text/plain": [
       "0"
      ]
     },
     "execution_count": 100,
     "metadata": {},
     "output_type": "execute_result"
    }
   ],
   "source": [
    "dataset.isna().sum().sum()\n"
   ]
  },
  {
   "cell_type": "code",
   "execution_count": 101,
   "id": "70522111",
   "metadata": {},
   "outputs": [
    {
     "data": {
      "text/plain": [
       "0"
      ]
     },
     "execution_count": 101,
     "metadata": {},
     "output_type": "execute_result"
    }
   ],
   "source": [
    "dataset['Percent of adults with less than a high school diploma, 1970'].isna().sum()"
   ]
  },
  {
   "cell_type": "code",
   "execution_count": 102,
   "id": "7a345549",
   "metadata": {},
   "outputs": [
    {
     "data": {
      "text/plain": [
       "0"
      ]
     },
     "execution_count": 102,
     "metadata": {},
     "output_type": "execute_result"
    }
   ],
   "source": [
    "\n",
    "dataset['Percent of adults completing some college (1-3 years), 1970'].isna().sum()\n",
    "dataset['Percent of adults completing four years of college or higher, 1970'].isna().sum()\n",
    "dataset['Percent of adults with less than a high school diploma, 1980'].isna().sum()\n",
    "dataset['Percent of adults with a high school diploma only, 1970'].isna().sum()\n",
    "dataset['Percent of adults with a high school diploma only, 1970'].isna().sum()\n"
   ]
  },
  {
   "cell_type": "code",
   "execution_count": 103,
   "id": "2797ac41",
   "metadata": {},
   "outputs": [
    {
     "data": {
      "text/plain": [
       "0"
      ]
     },
     "execution_count": 103,
     "metadata": {},
     "output_type": "execute_result"
    }
   ],
   "source": [
    "dataset['Percent of adults completing four years of college or higher, 1970'].isna().sum()"
   ]
  },
  {
   "cell_type": "code",
   "execution_count": 86,
   "id": "12b6464b",
   "metadata": {},
   "outputs": [
    {
     "name": "stdout",
     "output_type": "stream",
     "text": [
      "[[47.7 31.1 10.6 ... 27.  28.9 32.1]\n",
      " [58.7 25.9  7.5 ... 30.8 29.9 25.5]\n",
      " [54.8 31.1  7.7 ... 33.6 28.4 26.6]\n",
      " ...\n",
      " [ nan  nan  nan ... 38.4 19.7 19.9]\n",
      " [ nan  nan  nan ... 25.7 27.2 18. ]\n",
      " [ nan  nan  nan ... 33.3 15.5 24.6]]\n"
     ]
    }
   ],
   "source": [
    "X=dataset.iloc[:,3:23].values\n",
    "print(X)"
   ]
  },
  {
   "cell_type": "code",
   "execution_count": 87,
   "id": "0eb6487d",
   "metadata": {},
   "outputs": [],
   "source": [
    "from sklearn.impute import SimpleImputer\n",
    "imputer = SimpleImputer(missing_values=np.nan, strategy='mean')\n",
    "imputer.fit(X)\n",
    "\n",
    "X=imputer.transform(X)"
   ]
  },
  {
   "cell_type": "code",
   "execution_count": 32,
   "id": "d16aa46a",
   "metadata": {},
   "outputs": [
    {
     "name": "stdout",
     "output_type": "stream",
     "text": [
      "[[5.05712512e+00 5.37162372e+00 4.93697609e+00 5.18782987e+00\n",
      "  5.23733120e+07]\n",
      " [5.05712512e+00 5.37162372e+00 4.93697609e+00 5.18782987e+00\n",
      "  1.06230600e+06]\n",
      " [2.00000000e+00 2.00000000e+00 2.00000000e+00 2.00000000e+00\n",
      "  6.61100000e+03]\n",
      " ...\n",
      " [2.00000000e+00 2.00000000e+00 2.00000000e+00 2.00000000e+00\n",
      "  4.93157363e+04]\n",
      " [1.00000000e+00 1.00000000e+00 1.00000000e+00 1.00000000e+00\n",
      "  4.93157363e+04]\n",
      " [3.00000000e+00 2.00000000e+00 2.00000000e+00 2.00000000e+00\n",
      "  4.93157363e+04]]\n"
     ]
    }
   ],
   "source": [
    "print(X)"
   ]
  },
  {
   "cell_type": "code",
   "execution_count": null,
   "id": "aee26377",
   "metadata": {},
   "outputs": [],
   "source": []
  },
  {
   "cell_type": "code",
   "execution_count": null,
   "id": "7841e003",
   "metadata": {},
   "outputs": [],
   "source": []
  }
 ],
 "metadata": {
  "kernelspec": {
   "display_name": "Python 3",
   "language": "python",
   "name": "python3"
  },
  "language_info": {
   "codemirror_mode": {
    "name": "ipython",
    "version": 3
   },
   "file_extension": ".py",
   "mimetype": "text/x-python",
   "name": "python",
   "nbconvert_exporter": "python",
   "pygments_lexer": "ipython3",
   "version": "3.8.8"
  }
 },
 "nbformat": 4,
 "nbformat_minor": 5
}
